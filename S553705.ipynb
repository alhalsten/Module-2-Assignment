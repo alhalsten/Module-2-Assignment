{
 "cells": [
  {
   "cell_type": "markdown",
   "id": "5fb7a017-5726-49b8-b919-4cbb43b3072a",
   "metadata": {},
   "source": [
    "Name: Angela Halsten"
   ]
  },
  {
   "cell_type": "code",
   "execution_count": 15,
   "id": "3141dabc-9196-4ec7-a4c2-ac611d481b61",
   "metadata": {},
   "outputs": [
    {
     "name": "stdout",
     "output_type": "stream",
     "text": [
      "*  *\n",
      "* *  * *\n",
      "* * *  * * *\n",
      "* * * *  * * * *\n"
     ]
    }
   ],
   "source": [
    "def pypart(n):\n",
    "     \n",
    "    # outer loop to handle number of rows\n",
    "    # n in this case\n",
    "    for i in range(0, n):\n",
    "     \n",
    "        # inner loop to handle number of columns\n",
    "        # values changing acc. to outer loop\n",
    "        for j in range(0, i+1):\n",
    "         \n",
    "            # printing stars\n",
    "            print(\"* \",end=\"\")\n",
    "        for k in range(0, i+1):\n",
    "         \n",
    "            # printing stars\n",
    "            print(\" *\",end=\"\")\n",
    "      \n",
    "       \n",
    "        # ending line after each row\n",
    "        print(\"\\r\")\n",
    "# Driver Code\n",
    "n = 4\n",
    "pypart(n)"
   ]
  }
 ],
 "metadata": {
  "kernelspec": {
   "display_name": "Python 3 (ipykernel)",
   "language": "python",
   "name": "python3"
  },
  "language_info": {
   "codemirror_mode": {
    "name": "ipython",
    "version": 3
   },
   "file_extension": ".py",
   "mimetype": "text/x-python",
   "name": "python",
   "nbconvert_exporter": "python",
   "pygments_lexer": "ipython3",
   "version": "3.9.12"
  }
 },
 "nbformat": 4,
 "nbformat_minor": 5
}
