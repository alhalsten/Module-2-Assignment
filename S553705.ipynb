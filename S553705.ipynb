{
 "cells": [
  {
   "cell_type": "markdown",
   "id": "5fb7a017-5726-49b8-b919-4cbb43b3072a",
   "metadata": {},
   "source": [
    "Name: Angela Halsten"
   ]
  },
  {
   "cell_type": "code",
   "execution_count": 14,
   "id": "3141dabc-9196-4ec7-a4c2-ac611d481b61",
   "metadata": {},
   "outputs": [
    {
     "name": "stdout",
     "output_type": "stream",
     "text": [
      "1 \n",
      "2 2 \n",
      "3 3 3 \n",
      "4 4 4 4 \n"
     ]
    }
   ],
   "source": [
    "for i in range(1, 5):\n",
    "    for j in range(i):\n",
    "        print(i, end=' ')\n",
    "    print()"
   ]
  }
 ],
 "metadata": {
  "kernelspec": {
   "display_name": "Python 3 (ipykernel)",
   "language": "python",
   "name": "python3"
  },
  "language_info": {
   "codemirror_mode": {
    "name": "ipython",
    "version": 3
   },
   "file_extension": ".py",
   "mimetype": "text/x-python",
   "name": "python",
   "nbconvert_exporter": "python",
   "pygments_lexer": "ipython3",
   "version": "3.9.12"
  }
 },
 "nbformat": 4,
 "nbformat_minor": 5
}
